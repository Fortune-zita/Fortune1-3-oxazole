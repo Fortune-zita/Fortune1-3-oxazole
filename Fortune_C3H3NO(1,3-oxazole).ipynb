{
 "cells": [
  {
   "cell_type": "markdown",
   "id": "03cf8e36-62e7-4dd7-b6ec-3df451c71604",
   "metadata": {},
   "source": [
    "# Molécule 1,3-Oxazole\n",
    "\n",
    "1. **ATSAFACK FOUELEFACK Fortune Zita**,zita.atsafack@facsciences-uy1.cm\n",
    "    * Department of Physics, Faculty of Science, University of Yaounde I\n",
    "   \n",
    "19 Janvier 2024"
   ]
  },
  {
   "cell_type": "markdown",
   "id": "20b17178-a87f-478a-83cf-5972e822fd26",
   "metadata": {},
   "source": [
    "  **1,3-oxazole** :est un composé organique hétérocyclique aromatique important, avec la formule chimique C3H3NO. C'est le composé parent d'une vaste classe de composés hétérocycliques aromatiques appelés oxazoles\n",
    " \n",
    "  * ***Applications***: Les oxazoles ont une large gamme d'applications, notamment en tant que :\n",
    " \n",
    "    -*Intermédiaires pharmaceutiques* : De nombreux médicaments contiennent des oxazoles en raison de leur activité biologique diverse. Par exemple, le rivastigmine, utilisé pour traiter la maladie d'Alzheimer, et le léflunomide, utilisé pour traiter la polyarthrite rhumatoïde, sont des dérivés d'oxazole.ce sont des Agents antitumoraux ,Médicaments antimicrobiens\\\n",
    "![econazole.jpg](./econazole.jpg)\n",
    "    -*Pesticides* : Certains oxazoles présentent des propriétés insecticides et herbicides\n",
    "    -*Polymères* : Des oxazoles ont été utilisés pour synthétiser des polymères ayant des propriétés uniques, telles qu'une bonne résistance à la chaleur et aux produits chimiques.\n",
    "\n"
   ]
  },
  {
   "cell_type": "code",
   "execution_count": 207,
   "id": "e7a69efb-1524-410d-ab3a-f710fdc25321",
   "metadata": {},
   "outputs": [],
   "source": [
    "import rdkit\n",
    "from rdkit import Chem\n",
    "from rdkit.Chem import AllChem"
   ]
  },
  {
   "cell_type": "markdown",
   "id": "a708d809-227f-4aa1-96e6-4025d9f53546",
   "metadata": {},
   "source": [
    "### Creation d'un objet smile"
   ]
  },
  {
   "cell_type": "code",
   "execution_count": 208,
   "id": "9ae18e5b-705c-4e7c-bf92-0662bbb2d548",
   "metadata": {},
   "outputs": [],
   "source": [
    "smile=('C1=COC=N1')"
   ]
  },
  {
   "cell_type": "code",
   "execution_count": 210,
   "id": "13a63332-2b39-4cac-b4d4-503d32776454",
   "metadata": {},
   "outputs": [
    {
     "data": {
      "image/png": "[encoded data removed]",
      "text/plain": [
       "<rdkit.Chem.rdchem.Mol at 0x7f753bd5ba70>"
      ]
     },
     "execution_count": 210,
     "metadata": {},
     "output_type": "execute_result"
    }
   ],
   "source": [
    "mol=Chem.MolFromSmiles(smile)\n",
    "mol=AllChem.AddHs(mol)\n",
    "mol"
   ]
  },
  {
   "cell_type": "markdown",
   "id": "454a52cf-2773-4afb-a606-2d846424153f",
   "metadata": {},
   "source": [
    "### Molécule en 3D"
   ]
  },
  {
   "cell_type": "code",
   "execution_count": 211,
   "id": "87893de7-2242-46e0-9b12-483d3fd39cb0",
   "metadata": {},
   "outputs": [
    {
     "data": {
      "text/plain": [
       "8"
      ]
     },
     "execution_count": 211,
     "metadata": {},
     "output_type": "execute_result"
    }
   ],
   "source": [
    "mol.GetNumAtoms()"
   ]
  },
  {
   "cell_type": "code",
   "execution_count": 212,
   "id": "0e4333a7-e0b8-47b0-bdf0-d5e88ac4ebfc",
   "metadata": {},
   "outputs": [
    {
     "data": {
      "image/png": "[encoded data removed]",
      "text/plain": [
       "<rdkit.Chem.rdchem.Mol at 0x7f753bd5ba70>"
      ]
     },
     "execution_count": 212,
     "metadata": {},
     "output_type": "execute_result"
    }
   ],
   "source": [
    "confid = AllChem.EmbedMolecule(mol)\n",
    "mol\n"
   ]
  },
  {
   "cell_type": "markdown",
   "id": "ca4075eb-e8dd-4318-8c9e-4d3cd74fa5b7",
   "metadata": {},
   "source": [
    "### Optimisation de la conformation 3d de la molécule"
   ]
  },
  {
   "cell_type": "code",
   "execution_count": 213,
   "id": "b5290fd7-bec5-4945-9beb-0f0bf0ae16d1",
   "metadata": {},
   "outputs": [
    {
     "data": {
      "image/png": "[encoded data removed]",
      "text/plain": [
       "<rdkit.Chem.rdchem.Mol at 0x7f753bd5ba70>"
      ]
     },
     "execution_count": 213,
     "metadata": {},
     "output_type": "execute_result"
    }
   ],
   "source": [
    "\n",
    "AllChem.UFFOptimizeMolecule(mol)\n",
    "\n",
    "#ff\n",
    "mol"
   ]
  },
  {
   "cell_type": "markdown",
   "id": "6e49fb41-d871-42e3-8035-6dc273ab7840",
   "metadata": {},
   "source": [
    "## coordonnées 3D des molecules"
   ]
  },
  {
   "cell_type": "code",
   "execution_count": 214,
   "id": "1e844fa2-2632-4839-886e-67aa998ac2a6",
   "metadata": {},
   "outputs": [
    {
     "name": "stdout",
     "output_type": "stream",
     "text": [
      "C -0.7584467831115914 -0.657715903851269 -0.04978043264226076\n",
      "C -0.7061910482914688 0.714744958437004 0.013496237025564002\n",
      "O 0.55486711818303 1.062567268935662 0.06263630860500768\n",
      "C 1.2648644770369017 -0.042118523424271505 0.031656751561491094\n",
      "N 0.49526737760689454 -1.147835263846528 -0.03862194282648259\n",
      "H -1.652755155343055 -1.264116927897414 -0.1008509791798532\n",
      "H -1.5436413576566255 1.399414130879796 0.022153768272998867\n",
      "H 2.3460353715759323 -0.06493973923296575 0.05931028918352755\n"
     ]
    }
   ],
   "source": [
    "for i, atom in enumerate(mol.GetAtoms()):\n",
    "        positions = mol.GetConformer().GetAtomPosition(i)\n",
    "        print(atom.GetSymbol(), positions.x, positions.y, positions.z)"
   ]
  },
  {
   "cell_type": "markdown",
   "id": "d1fa4c41-d40e-4b20-a5c4-aa329ba411d1",
   "metadata": {},
   "source": [
    "## convertion de l'objet mol rdkit en format XYZ"
   ]
  },
  {
   "cell_type": "code",
   "execution_count": 215,
   "id": "7ce91686-197a-4118-9cfe-94a8c34bbac2",
   "metadata": {},
   "outputs": [
    {
     "name": "stdout",
     "output_type": "stream",
     "text": [
      "\n",
      "C     -0.758447   -0.657716   -0.049780\n",
      "C     -0.706191    0.714745    0.013496\n",
      "O      0.554867    1.062567    0.062636\n",
      "C      1.264864   -0.042119    0.031657\n",
      "N      0.495267   -1.147835   -0.038622\n",
      "H     -1.652755   -1.264117   -0.100851\n",
      "H     -1.543641    1.399414    0.022154\n",
      "H      2.346035   -0.064940    0.059310\n"
     ]
    }
   ],
   "source": [
    "mol_xyz = Chem.MolToXYZBlock(mol)\n",
    "\n",
    "# supression de la premiere liugne (numbre d atomes) pour les donnees XYZ \n",
    "mol_xyz = '\\n'.join(mol_xyz.strip().split('\\n')[1:])\n",
    "print(mol_xyz)"
   ]
  },
  {
   "cell_type": "markdown",
   "id": "15ea1288-dc21-4454-b3c7-540651520643",
   "metadata": {},
   "source": [
    "### Etudions la convergence des ensembles de base pour une série de fonctionnelles de la théorie fonctionnelle de la densité (DFT)\n"
   ]
  },
  {
   "cell_type": "code",
   "execution_count": 216,
   "id": "2ac8c684-e444-4487-983e-cc54e6f13f25",
   "metadata": {},
   "outputs": [],
   "source": [
    "from pyscf import gto\n",
    "import py3Dmol"
   ]
  },
  {
   "cell_type": "code",
   "execution_count": 235,
   "id": "78dfdd7d-0ed7-410f-ace5-6e39cada6858",
   "metadata": {},
   "outputs": [
    {
     "data": {
      "text/plain": [
       "<pyscf.gto.mole.Mole at 0x7f753b5e1d50>"
      ]
     },
     "execution_count": 235,
     "metadata": {},
     "output_type": "execute_result"
    }
   ],
   "source": [
    "mol=gto.Mole(\n",
    "    atom=mol_xyz,\n",
    "    basis=\"6-31G\",\n",
    "    charge=0,      # 0 by default\n",
    "    spin=0,        # 0 by default, defined as (n_up - n_down)\n",
    "    unit='Angstrom' # Can also be 'Bohr'\n",
    ")\n",
    "\n",
    "mol.build()\n",
    "\n",
    "\n"
   ]
  },
  {
   "cell_type": "code",
   "execution_count": 236,
   "id": "67d2e57d-5c71-455d-be58-2d391fc5d83b",
   "metadata": {},
   "outputs": [
    {
     "data": {
      "application/3dmoljs_load.v0": "<div id=\"3dmolviewer_17057781286076524\"  style=\"position: relative; width: 300px; height: 300px;\">\n        <p id=\"3dmolwarning_17057781286076524\" style=\"background-color:#ffcccc;color:black\">You appear to be running in JupyterLab (or JavaScript failed to load for some other reason).  You need to install the 3dmol extension: <br>\n        <tt>jupyter labextension install jupyterlab_3dmol</tt></p>\n        </div>\n<script>\n\nvar loadScriptAsync = function(uri){\n  return new Promise((resolve, reject) => {\n    //this is to ignore the existence of requirejs amd\n    var savedexports, savedmodule;\n    if (typeof exports !== 'undefined') savedexports = exports;\n    else exports = {}\n    if (typeof module !== 'undefined') savedmodule = module;\n    else module = {}\n\n    var tag = document.createElement('script');\n    tag.src = uri;\n    tag.async = true;\n    tag.onload = () => {\n        exports = savedexports;\n        module = savedmodule;\n        resolve();\n    };\n  var firstScriptTag = document.getElementsByTagName('script')[0];\n  firstScriptTag.parentNode.insertBefore(tag, firstScriptTag);\n});\n};\n\nif(typeof $3Dmolpromise === 'undefined') {\n$3Dmolpromise = null;\n  $3Dmolpromise = loadScriptAsync('https://cdnjs.cloudflare.com/ajax/libs/3Dmol/2.0.4/3Dmol-min.js');\n}\n\nvar viewer_17057781286076524 = null;\nvar warn = document.getElementById(\"3dmolwarning_17057781286076524\");\nif(warn) {\n    warn.parentNode.removeChild(warn);\n}\n$3Dmolpromise.then(function() {\nviewer_17057781286076524 = $3Dmol.createViewer(document.getElementById(\"3dmolviewer_17057781286076524\"),{backgroundColor:\"white\"});\nviewer_17057781286076524.zoomTo();\n\tviewer_17057781286076524.addModel(\"8\\nXYZ from PySCF\\nC          -0.75845       -0.65772       -0.04978\\nC          -0.70619        0.71474        0.01350\\nO           0.55487        1.06257        0.06264\\nC           1.26486       -0.04212        0.03166\\nN           0.49527       -1.14783       -0.03862\\nH          -1.65275       -1.26412       -0.10085\\nH          -1.54364        1.39941        0.02215\\nH           2.34603       -0.06494        0.05931\",\"xyz\");\n\tviewer_17057781286076524.setStyle({\"stick\": {}, \"sphere\": {\"radius\": 0.4}});\n\tviewer_17057781286076524.setBackgroundColor(\"0xeeeeee\");\nviewer_17057781286076524.render();\n});\n</script>",
      "text/html": [
       "<div id=\"3dmolviewer_17057781286076524\"  style=\"position: relative; width: 300px; height: 300px;\">\n",
       "        <p id=\"3dmolwarning_17057781286076524\" style=\"background-color:#ffcccc;color:black\">You appear to be running in JupyterLab (or JavaScript failed to load for some other reason).  You need to install the 3dmol extension: <br>\n",
       "        <tt>jupyter labextension install jupyterlab_3dmol</tt></p>\n",
       "        </div>\n",
       "<script>\n",
       "\n",
       "var loadScriptAsync = function(uri){\n",
       "  return new Promise((resolve, reject) => {\n",
       "    //this is to ignore the existence of requirejs amd\n",
       "    var savedexports, savedmodule;\n",
       "    if (typeof exports !== 'undefined') savedexports = exports;\n",
       "    else exports = {}\n",
       "    if (typeof module !== 'undefined') savedmodule = module;\n",
       "    else module = {}\n",
       "\n",
       "    var tag = document.createElement('script');\n",
       "    tag.src = uri;\n",
       "    tag.async = true;\n",
       "    tag.onload = () => {\n",
       "        exports = savedexports;\n",
       "        module = savedmodule;\n",
       "        resolve();\n",
       "    };\n",
       "  var firstScriptTag = document.getElementsByTagName('script')[0];\n",
       "  firstScriptTag.parentNode.insertBefore(tag, firstScriptTag);\n",
       "});\n",
       "};\n",
       "\n",
       "if(typeof $3Dmolpromise === 'undefined') {\n",
       "$3Dmolpromise = null;\n",
       "  $3Dmolpromise = loadScriptAsync('https://cdnjs.cloudflare.com/ajax/libs/3Dmol/2.0.4/3Dmol-min.js');\n",
       "}\n",
       "\n",
       "var viewer_17057781286076524 = null;\n",
       "var warn = document.getElementById(\"3dmolwarning_17057781286076524\");\n",
       "if(warn) {\n",
       "    warn.parentNode.removeChild(warn);\n",
       "}\n",
       "$3Dmolpromise.then(function() {\n",
       "viewer_17057781286076524 = $3Dmol.createViewer(document.getElementById(\"3dmolviewer_17057781286076524\"),{backgroundColor:\"white\"});\n",
       "viewer_17057781286076524.zoomTo();\n",
       "\tviewer_17057781286076524.addModel(\"8\\nXYZ from PySCF\\nC          -0.75845       -0.65772       -0.04978\\nC          -0.70619        0.71474        0.01350\\nO           0.55487        1.06257        0.06264\\nC           1.26486       -0.04212        0.03166\\nN           0.49527       -1.14783       -0.03862\\nH          -1.65275       -1.26412       -0.10085\\nH          -1.54364        1.39941        0.02215\\nH           2.34603       -0.06494        0.05931\",\"xyz\");\n",
       "\tviewer_17057781286076524.setStyle({\"stick\": {}, \"sphere\": {\"radius\": 0.4}});\n",
       "\tviewer_17057781286076524.setBackgroundColor(\"0xeeeeee\");\n",
       "viewer_17057781286076524.render();\n",
       "});\n",
       "</script>"
      ]
     },
     "metadata": {},
     "output_type": "display_data"
    }
   ],
   "source": [
    "# 3D representation\n",
    "xyz_view = py3Dmol.view(width=300,height=300)\n",
    "xyz_view.addModel(mol.tostring(format=\"xyz\"),'xyz')\n",
    "xyz_view.setStyle({'stick':{}, \"sphere\":{\"radius\":0.4}})\n",
    "xyz_view.setBackgroundColor('0xeeeeee')\n",
    "xyz_view.show()"
   ]
  },
  {
   "cell_type": "code",
   "execution_count": 237,
   "id": "d88fd532-81cb-403f-8914-866fbd5d020a",
   "metadata": {},
   "outputs": [
    {
     "name": "stdout",
     "output_type": "stream",
     "text": [
      "Le nombre total d'électrons est 36 et le nombre total d'électrons (alpha, béta) est (18, 18)\n",
      "Le nombre d'orbitales atomiques, dans la base 6-31G, est 51\n",
      "L'énergie nucléaire vaut 164.7951892926279 Hartrees\n"
     ]
    }
   ],
   "source": [
    "print(f'Le nombre total d\\'électrons est {mol.nelectron} et le nombre total d\\'électrons (alpha, béta) est {mol.nelec}')\n",
    "print(f'Le nombre d\\'orbitales atomiques, dans la base {mol.basis}, est {mol.nao_nr()}')\n",
    "print(f'L\\'énergie nucléaire vaut {mol.energy_nuc()} Hartrees')"
   ]
  },
  {
   "cell_type": "markdown",
   "id": "e465c2f5-eff0-4a84-a93b-5a1ff2095cbb",
   "metadata": {},
   "source": [
    "####  Calcul de l'objet mf avec RHF"
   ]
  },
  {
   "cell_type": "code",
   "execution_count": 243,
   "id": "134bc2b2-8583-424f-a589-b263dcc0dc1a",
   "metadata": {},
   "outputs": [
    {
     "name": "stdout",
     "output_type": "stream",
     "text": [
      "converged SCF energy = -244.486217854875\n"
     ]
    }
   ],
   "source": [
    "import time\n",
    "from pyscf import scf\n",
    "\n",
    "start = time.time()\n",
    "mf = scf.RHF(mol).run()\n",
    "mf_time = time.time() - start"
   ]
  },
  {
   "cell_type": "code",
   "execution_count": 244,
   "id": "75975f55-003e-439b-8d8f-7845436a618e",
   "metadata": {},
   "outputs": [
    {
     "data": {
      "text/plain": [
       "0.48461198806762695"
      ]
     },
     "execution_count": 244,
     "metadata": {},
     "output_type": "execute_result"
    }
   ],
   "source": [
    "mf_time "
   ]
  },
  {
   "cell_type": "code",
   "execution_count": 245,
   "id": "ef61cb53-073d-462f-af8c-27df6076e81f",
   "metadata": {},
   "outputs": [
    {
     "data": {
      "text/plain": [
       "array([2., 2., 2., 2., 2., 2., 2., 2., 2., 2., 2., 2., 2., 2., 2., 2., 2.,\n",
       "       2., 0., 0., 0., 0., 0., 0., 0., 0., 0., 0., 0., 0., 0., 0., 0., 0.,\n",
       "       0., 0., 0., 0., 0., 0., 0., 0., 0., 0., 0., 0., 0., 0., 0., 0., 0.])"
      ]
     },
     "execution_count": 245,
     "metadata": {},
     "output_type": "execute_result"
    }
   ],
   "source": [
    "mf.mo_occ"
   ]
  },
  {
   "cell_type": "code",
   "execution_count": 246,
   "id": "3b61165b-73c6-4508-9127-b69fbee982e8",
   "metadata": {},
   "outputs": [
    {
     "name": "stdout",
     "output_type": "stream",
     "text": [
      "Les indexes du (HOMO,LUMO) sont (17, 18)\n"
     ]
    }
   ],
   "source": [
    "lumo_idx = mf.mo_occ.tolist().index(0.)\n",
    "homo_idx = lumo_idx- 1\n",
    "print(f'Les indexes du (HOMO,LUMO) sont {homo_idx,lumo_idx}')"
   ]
  },
  {
   "cell_type": "markdown",
   "id": "3bd8a9af-7dee-4e55-934f-6eb015fe6b28",
   "metadata": {},
   "source": [
    "##  Calcul DFT "
   ]
  },
  {
   "cell_type": "markdown",
   "id": "bca974ac-40cb-4091-bcb7-a4e82032a649",
   "metadata": {},
   "source": [
    "## Calcul de l'objet mf avec RKS"
   ]
  },
  {
   "cell_type": "code",
   "execution_count": 247,
   "id": "80ca5642-e7f3-485e-84e9-bc80068bce4a",
   "metadata": {},
   "outputs": [
    {
     "name": "stdout",
     "output_type": "stream",
     "text": [
      "converged SCF energy = -243.940603513938\n"
     ]
    },
    {
     "data": {
      "text/plain": [
       "-243.94060351393782"
      ]
     },
     "execution_count": 247,
     "metadata": {},
     "output_type": "execute_result"
    }
   ],
   "source": [
    "from pyscf import dft\n",
    "\n",
    "mfd=dft.RKS(mol)\n",
    "mfd.kernel()"
   ]
  },
  {
   "cell_type": "code",
   "execution_count": 229,
   "id": "74bd8f21-852c-4bbb-9ef8-f6adbd42f1ac",
   "metadata": {},
   "outputs": [
    {
     "data": {
      "text/plain": [
       "array([2., 2., 2., 0., 0., 0., 0., 0., 0., 0., 0., 0., 0., 0., 0., 0., 0.,\n",
       "       0., 0., 0., 0., 0., 0., 0., 0., 0., 0., 0., 0., 0., 0., 0., 0., 0.,\n",
       "       0., 0., 0., 0., 0., 0., 0., 0., 0., 0., 0., 0., 0., 0., 0., 0., 0.,\n",
       "       0., 0., 0., 0., 0., 0., 0., 0., 0., 0., 0., 0., 0., 0., 0., 0., 0.,\n",
       "       0., 0., 0., 0., 0., 0., 0., 0., 0., 0., 0., 0., 0., 0., 0., 0., 0.,\n",
       "       0., 0., 0., 0., 0., 0.])"
      ]
     },
     "execution_count": 229,
     "metadata": {},
     "output_type": "execute_result"
    }
   ],
   "source": [
    "mfd.mo_occ"
   ]
  },
  {
   "cell_type": "code",
   "execution_count": 248,
   "id": "73ed182a-fa0e-4cb8-93df-33a58f112d39",
   "metadata": {},
   "outputs": [
    {
     "data": {
      "text/plain": [
       "-243.94060351393782"
      ]
     },
     "execution_count": 248,
     "metadata": {},
     "output_type": "execute_result"
    }
   ],
   "source": [
    "mfd.e_tot"
   ]
  },
  {
   "cell_type": "markdown",
   "id": "2acf78e3-eb1c-4061-aae8-576bb73c73d0",
   "metadata": {},
   "source": [
    "## hybride Fonctionnelle (B3LYP)"
   ]
  },
  {
   "cell_type": "code",
   "execution_count": 249,
   "id": "714c7d7a-2c58-404c-85ff-d9fc128325a4",
   "metadata": {},
   "outputs": [
    {
     "name": "stdout",
     "output_type": "stream",
     "text": [
      "converged SCF energy = -245.961117783886\n",
      "mfd_B3LYP est <pyscf.dft.rks.RKS object at 0x7f753b648a90>\n"
     ]
    }
   ],
   "source": [
    "mfd.xc='B3LYP'\n",
    "start = time.time()\n",
    "mfd_B3LYP = mfd.run()\n",
    "mfdB3LYP_time = time.time() - start\n",
    "print(f'mfd_B3LYP est {mfd_B3LYP}')"
   ]
  },
  {
   "cell_type": "code",
   "execution_count": 136,
   "id": "8492920a-1e89-4be3-abf1-0414b33cc579",
   "metadata": {},
   "outputs": [
    {
     "data": {
      "text/plain": [
       "17.673429012298584"
      ]
     },
     "execution_count": 136,
     "metadata": {},
     "output_type": "execute_result"
    }
   ],
   "source": [
    "mfdB3LYP_time"
   ]
  },
  {
   "cell_type": "markdown",
   "id": "d2d92bb6-904e-4da8-bb25-c2642d34ad0c",
   "metadata": {},
   "source": [
    "### fonctionelle non hybrides PBE"
   ]
  },
  {
   "cell_type": "code",
   "execution_count": 257,
   "id": "b7d80a7b-6fb9-4ae5-ba69-5b7726a636e8",
   "metadata": {},
   "outputs": [
    {
     "name": "stdout",
     "output_type": "stream",
     "text": [
      "converged SCF energy = -245.685829782094\n"
     ]
    }
   ],
   "source": [
    "start = time.time()\n",
    "mfd.xc='PBE'\n",
    "mfd_PBE = mfd.run()\n",
    "mfdPBE_time = time.time() - start"
   ]
  },
  {
   "cell_type": "code",
   "execution_count": 251,
   "id": "c8d02c8a-cc52-4b5d-a3de-ae358faf19ae",
   "metadata": {},
   "outputs": [
    {
     "data": {
      "text/plain": [
       "5.032702445983887"
      ]
     },
     "execution_count": 251,
     "metadata": {},
     "output_type": "execute_result"
    }
   ],
   "source": [
    "mfdPBE_time "
   ]
  },
  {
   "cell_type": "markdown",
   "id": "dc432131-3234-435d-a4a3-eb22cf8229e9",
   "metadata": {},
   "source": [
    "## Fonctionnelle non hybrides TPSS"
   ]
  },
  {
   "cell_type": "code",
   "execution_count": 258,
   "id": "57205d8c-0622-40f3-abd9-311168f786f0",
   "metadata": {},
   "outputs": [
    {
     "name": "stdout",
     "output_type": "stream",
     "text": [
      "converged SCF energy = -246.008897850318\n"
     ]
    }
   ],
   "source": [
    "start = time.time()\n",
    "mfd.xc='TPSS'\n",
    "mfd_TPSS = mfd.run()\n",
    "mfdTPSS_time = time.time() - start"
   ]
  },
  {
   "cell_type": "code",
   "execution_count": 260,
   "id": "e5900853-c5f8-4cc4-abc1-ebd3c1f7b0e0",
   "metadata": {},
   "outputs": [
    {
     "data": {
      "text/plain": [
       "17.238146543502808"
      ]
     },
     "execution_count": 260,
     "metadata": {},
     "output_type": "execute_result"
    }
   ],
   "source": [
    "mfdTPSS_time "
   ]
  },
  {
   "cell_type": "markdown",
   "id": "406cbe63-fc0a-4502-a87a-36879310fd06",
   "metadata": {},
   "source": [
    "### "
   ]
  },
  {
   "cell_type": "code",
   "execution_count": 261,
   "id": "d365c1e4-432b-4628-97c4-823befc80ea5",
   "metadata": {},
   "outputs": [],
   "source": [
    "import pandas as pd"
   ]
  },
  {
   "cell_type": "code",
   "execution_count": 265,
   "id": "a81b3a6f-3da9-45d5-b8e3-598e295af8a1",
   "metadata": {},
   "outputs": [
    {
     "data": {
      "text/html": [
       "<div>\n",
       "<style scoped>\n",
       "    .dataframe tbody tr th:only-of-type {\n",
       "        vertical-align: middle;\n",
       "    }\n",
       "\n",
       "    .dataframe tbody tr th {\n",
       "        vertical-align: top;\n",
       "    }\n",
       "\n",
       "    .dataframe thead th {\n",
       "        text-align: right;\n",
       "    }\n",
       "</style>\n",
       "<table border=\"1\" class=\"dataframe\">\n",
       "  <thead>\n",
       "    <tr style=\"text-align: right;\">\n",
       "      <th></th>\n",
       "      <th>Fonctionnelles</th>\n",
       "      <th>Energies</th>\n",
       "      <th>Temps</th>\n",
       "    </tr>\n",
       "  </thead>\n",
       "  <tbody>\n",
       "    <tr>\n",
       "      <th>0</th>\n",
       "      <td>B3LYP</td>\n",
       "      <td>-246.008898</td>\n",
       "      <td>4.860825</td>\n",
       "    </tr>\n",
       "    <tr>\n",
       "      <th>1</th>\n",
       "      <td>PBE</td>\n",
       "      <td>-246.008898</td>\n",
       "      <td>5.431683</td>\n",
       "    </tr>\n",
       "    <tr>\n",
       "      <th>2</th>\n",
       "      <td>TPSS</td>\n",
       "      <td>-246.008898</td>\n",
       "      <td>17.238147</td>\n",
       "    </tr>\n",
       "  </tbody>\n",
       "</table>\n",
       "</div>"
      ],
      "text/plain": [
       "  Fonctionnelles    Energies      Temps\n",
       "0          B3LYP -246.008898   4.860825\n",
       "1            PBE -246.008898   5.431683\n",
       "2           TPSS -246.008898  17.238147"
      ]
     },
     "execution_count": 265,
     "metadata": {},
     "output_type": "execute_result"
    }
   ],
   "source": [
    "\n",
    "Fonctionnelles = ['B3LYP','PBE','TPSS']\n",
    "Energies = [mfd_B3LYP.e_tot,mfd_PBE.e_tot,mfd_TPSS.e_tot]\n",
    "Temps = [mfdB3LYP_time,mfdPBE_time,mfdTPSS_time ]\n",
    "\n",
    "data= {\n",
    "       \"Fonctionnelles\":Fonctionnelles,\n",
    "       \"Energies\" :Energies,\n",
    "       \"Temps\" :Temps\n",
    "      }\n",
    "df = pd.DataFrame(data)\n",
    "df"
   ]
  },
  {
   "cell_type": "markdown",
   "id": "cc130692-9b0c-47db-800f-ecef266fa656",
   "metadata": {},
   "source": [
    "## Comparons les calculs DFT, MP2, CCSD et CCSD(T)"
   ]
  },
  {
   "cell_type": "markdown",
   "id": "cabe6219-9937-4faf-abf9-ab927dd6f200",
   "metadata": {},
   "source": [
    "### Théorie des perturbations de Møller-Plesset - MP2"
   ]
  },
  {
   "cell_type": "code",
   "execution_count": 266,
   "id": "2585f406-f50c-4a8d-8383-99b2bb71bfe4",
   "metadata": {},
   "outputs": [
    {
     "name": "stdout",
     "output_type": "stream",
     "text": [
      "E(MP2) = -244.986721520677  E_corr = -0.500503665802111\n",
      "E(SCS-MP2) = -244.97404864969  E_corr = -0.487830794815351\n"
     ]
    }
   ],
   "source": [
    "from pyscf import mp\n",
    "\n",
    "start = time.time()\n",
    "mymp2 = mp.MP2(mf).run()\n",
    "mymp2_time = time.time() - start + mf_time"
   ]
  },
  {
   "cell_type": "code",
   "execution_count": 267,
   "id": "83347181-8bf3-4049-972a-8a3498ab0ac1",
   "metadata": {},
   "outputs": [
    {
     "data": {
      "text/plain": [
       "0.6664087772369385"
      ]
     },
     "execution_count": 267,
     "metadata": {},
     "output_type": "execute_result"
    }
   ],
   "source": [
    "mymp2_time"
   ]
  },
  {
   "cell_type": "markdown",
   "id": "cfb71b8c-87b0-4483-aff4-0d2ab97faec3",
   "metadata": {},
   "source": [
    "## Cluster couplé - CCSD"
   ]
  },
  {
   "cell_type": "code",
   "execution_count": 269,
   "id": "dd960057-de4d-4814-bf9e-16d978ccc0f9",
   "metadata": {},
   "outputs": [
    {
     "name": "stdout",
     "output_type": "stream",
     "text": [
      "E(CCSD) = -245.0053137106553  E_corr = -0.5190958557806693\n"
     ]
    }
   ],
   "source": [
    "from pyscf import cc\n",
    "\n",
    "start = time.time()\n",
    "mycc = cc.CCSD(mf).run()\n",
    "mycc_time = time.time() - start + mf_time"
   ]
  },
  {
   "cell_type": "code",
   "execution_count": 270,
   "id": "0cb5a243-f330-40c5-a879-f71096127b97",
   "metadata": {},
   "outputs": [
    {
     "data": {
      "text/plain": [
       "5.392047882080078"
      ]
     },
     "execution_count": 270,
     "metadata": {},
     "output_type": "execute_result"
    }
   ],
   "source": [
    "mycc_time"
   ]
  },
  {
   "cell_type": "markdown",
   "id": "46aa2a4d-6140-478c-866e-876f4199cc8f",
   "metadata": {},
   "source": [
    "### CCSD(T)"
   ]
  },
  {
   "cell_type": "code",
   "execution_count": 271,
   "id": "3f00d836-24b8-4695-a5cb-9b9d513f29d2",
   "metadata": {},
   "outputs": [
    {
     "name": "stdout",
     "output_type": "stream",
     "text": [
      "CCSD(T) correction = -0.0185446191200468\n",
      "e_ccsd_t est :-0.018544619120046818\n"
     ]
    }
   ],
   "source": [
    "start = time.time()\n",
    "e_ccsd_t = mycc.ccsd_t()\n",
    "mycct_time = time.time() - start + mf_time\n",
    "print(f'e_ccsd_t est :{ e_ccsd_t}')"
   ]
  },
  {
   "cell_type": "code",
   "execution_count": 272,
   "id": "9d631a98-a12f-4816-b223-e95e28cd7d13",
   "metadata": {},
   "outputs": [
    {
     "data": {
      "text/plain": [
       "1.766308069229126"
      ]
     },
     "execution_count": 272,
     "metadata": {},
     "output_type": "execute_result"
    }
   ],
   "source": [
    "mycct_time"
   ]
  },
  {
   "cell_type": "code",
   "execution_count": 274,
   "id": "41f22157-58ef-4c08-8557-7d87c0a18998",
   "metadata": {},
   "outputs": [
    {
     "data": {
      "text/html": [
       "<div>\n",
       "<style scoped>\n",
       "    .dataframe tbody tr th:only-of-type {\n",
       "        vertical-align: middle;\n",
       "    }\n",
       "\n",
       "    .dataframe tbody tr th {\n",
       "        vertical-align: top;\n",
       "    }\n",
       "\n",
       "    .dataframe thead th {\n",
       "        text-align: right;\n",
       "    }\n",
       "</style>\n",
       "<table border=\"1\" class=\"dataframe\">\n",
       "  <thead>\n",
       "    <tr style=\"text-align: right;\">\n",
       "      <th></th>\n",
       "      <th>Methodes</th>\n",
       "      <th>Energies</th>\n",
       "      <th>Temps</th>\n",
       "    </tr>\n",
       "  </thead>\n",
       "  <tbody>\n",
       "    <tr>\n",
       "      <th>0</th>\n",
       "      <td>DFT</td>\n",
       "      <td>-246.008898</td>\n",
       "      <td>4.860825</td>\n",
       "    </tr>\n",
       "    <tr>\n",
       "      <th>1</th>\n",
       "      <td>MP2</td>\n",
       "      <td>-244.986722</td>\n",
       "      <td>0.666409</td>\n",
       "    </tr>\n",
       "    <tr>\n",
       "      <th>2</th>\n",
       "      <td>CCSD</td>\n",
       "      <td>-245.005314</td>\n",
       "      <td>5.392048</td>\n",
       "    </tr>\n",
       "    <tr>\n",
       "      <th>3</th>\n",
       "      <td>CCSD(T)</td>\n",
       "      <td>-245.023858</td>\n",
       "      <td>1.766308</td>\n",
       "    </tr>\n",
       "  </tbody>\n",
       "</table>\n",
       "</div>"
      ],
      "text/plain": [
       "  Methodes     Energies     Temps\n",
       "0       DFT -246.008898  4.860825\n",
       "1       MP2 -244.986722  0.666409\n",
       "2      CCSD -245.005314  5.392048\n",
       "3   CCSD(T) -245.023858  1.766308"
      ]
     },
     "execution_count": 274,
     "metadata": {},
     "output_type": "execute_result"
    }
   ],
   "source": [
    "\n",
    "Methodes = ['DFT','MP2','CCSD','CCSD(T)']\n",
    "Energies = [mfd_B3LYP.e_tot,mymp2.e_tot ,mycc.e_tot ,mycc.e_tot +e_ccsd_t]\n",
    "Temps = [mfdB3LYP_time,mymp2_time,mycc_time,mycct_time]\n",
    "\n",
    "data= {\n",
    "       \"Methodes \":Methodes ,\n",
    "       \"Energies\" :Energies,\n",
    "       \"Temps\" :Temps\n",
    "      }\n",
    "df = pd.DataFrame(data)\n",
    "df"
   ]
  },
  {
   "cell_type": "markdown",
   "id": "9086c01e-ee60-40b0-afd0-d9da57ce0cb1",
   "metadata": {},
   "source": [
    "## 3 Energie de gap HOMO-LUMO"
   ]
  },
  {
   "cell_type": "markdown",
   "id": "77886c19-7ac2-4eb1-94dd-15c855fb6583",
   "metadata": {},
   "source": [
    "la bande interdite est donnée par la fpormule $$E_g = E_{\\rm LUMO} - E_{\\rm HOMO}$$"
   ]
  },
  {
   "cell_type": "markdown",
   "id": "1fbce70c-a6db-446a-86ff-0d507c30e89c",
   "metadata": {},
   "source": [
    "### Calculs des états excités singulets avec la TDDFT"
   ]
  },
  {
   "cell_type": "code",
   "execution_count": 275,
   "id": "ff48ac86-24d8-470d-ade6-746bedacebd2",
   "metadata": {},
   "outputs": [],
   "source": [
    "from pyscf import gto, scf, dft, tddft"
   ]
  },
  {
   "cell_type": "code",
   "execution_count": 276,
   "id": "8769d30e-9c24-48bb-9754-99acc3a80beb",
   "metadata": {},
   "outputs": [
    {
     "name": "stdout",
     "output_type": "stream",
     "text": [
      "Excited State energies (eV)\n",
      "[5.64133917 6.5235029  7.36094493]\n",
      "\n",
      "** Singlet excitation energies and oscillator strengths **\n",
      "Excited State   1:      5.64134 eV    219.78 nm  f=0.0023\n",
      "      17 -> 19        0.69858\n",
      "      17 -> 20       -0.10587\n",
      "Excited State   2:      6.52350 eV    190.06 nm  f=0.1285\n",
      "      16 -> 19        0.14262\n",
      "      18 -> 19        0.66105\n",
      "      18 -> 20        0.18384\n",
      "Excited State   3:      7.36094 eV    168.44 nm  f=0.0405\n",
      "      16 -> 19        0.41964\n",
      "      18 -> 19       -0.23396\n",
      "      18 -> 20        0.50910\n",
      "\n",
      "** Transition electric dipole moments (AU) **\n",
      "state          X           Y           Z        Dip. S.      Osc.\n",
      "  1        -0.0034     -0.0058      0.1285      0.0166      0.0023\n",
      "  2        -0.8518      0.2801     -0.0100      0.8042      0.1285\n",
      "  3         0.3400     -0.3303     -0.0059      0.2247      0.0405\n",
      "\n",
      "** Transition velocity dipole moments (imaginary part, AU) **\n",
      "state          X           Y           Z        Dip. S.      Osc.\n",
      "  1        -0.0013     -0.0022      0.0496      0.0025      0.0079\n",
      "  2        -0.1465      0.0518     -0.0015      0.0241      0.0671\n",
      "  3         0.0649     -0.0783     -0.0018      0.0104      0.0255\n",
      "\n",
      "** Transition magnetic dipole moments (imaginary part, AU) **\n",
      "state          X           Y           Z\n",
      "  1         0.4293      0.1929      0.0201\n",
      "  2        -0.0054     -0.0091      0.2024\n",
      "  3         0.0066      0.0111     -0.2469\n"
     ]
    },
    {
     "data": {
      "text/plain": [
       "<pyscf.tdscf.rks.CasidaTDDFT at 0x7f753b51abd0>"
      ]
     },
     "execution_count": 276,
     "metadata": {},
     "output_type": "execute_result"
    }
   ],
   "source": [
    "mytd = tddft.TDDFT(mfd)\n",
    "start=time.time()\n",
    "mytd.kernel()\n",
    "mytd_time = time.time() - start\n",
    "mytd.analyze(verbose=4)"
   ]
  },
  {
   "cell_type": "code",
   "execution_count": 277,
   "id": "169cc8ef-1f6a-4a23-9621-431abdc963d4",
   "metadata": {},
   "outputs": [
    {
     "data": {
      "text/plain": [
       "26.1469988822937"
      ]
     },
     "execution_count": 277,
     "metadata": {},
     "output_type": "execute_result"
    }
   ],
   "source": [
    "mytd_time"
   ]
  },
  {
   "cell_type": "markdown",
   "id": "7538cb07-af9b-4bc5-b92d-8a806e9c1e7e",
   "metadata": {},
   "source": [
    "### Calculs des états excités singulets avec la TDA"
   ]
  },
  {
   "cell_type": "code",
   "execution_count": 278,
   "id": "7cca5a36-bb99-4962-9771-4c16487f7c2e",
   "metadata": {},
   "outputs": [
    {
     "name": "stdout",
     "output_type": "stream",
     "text": [
      "Excited State energies (eV)\n",
      "[5.65677204 6.85217559 7.60516143]\n",
      "\n",
      "** Singlet excitation energies and oscillator strengths **\n",
      "Excited State   1:      5.65677 eV    219.18 nm  f=0.0028\n",
      "      17 -> 19        0.69652\n",
      "      17 -> 20       -0.11579\n",
      "Excited State   2:      6.85218 eV    180.94 nm  f=0.1339\n",
      "      16 -> 19        0.25238\n",
      "      18 -> 19        0.56248\n",
      "      18 -> 20        0.30445\n",
      "Excited State   3:      7.60516 eV    163.03 nm  f=0.1191\n",
      "      16 -> 19       -0.37798\n",
      "      18 -> 19        0.38381\n",
      "      18 -> 20       -0.42638\n",
      "\n",
      "** Transition electric dipole moments (AU) **\n",
      "state          X           Y           Z        Dip. S.      Osc.\n",
      "  1        -0.0037     -0.0064      0.1409      0.0199      0.0028\n",
      "  2        -0.8610      0.2371     -0.0121      0.7976      0.1339\n",
      "  3        -0.6727      0.4317      0.0016      0.6390      0.1191\n",
      "\n",
      "** Transition velocity dipole moments (imaginary part, AU) **\n",
      "state          X           Y           Z        Dip. S.      Osc.\n",
      "  1        -0.0009     -0.0015      0.0341      0.0012      0.0037\n",
      "  2         0.0009     -0.0107     -0.0005      0.0001      0.0003\n",
      "  3        -0.0021      0.0339      0.0015      0.0012      0.0028\n",
      "\n",
      "** Transition magnetic dipole moments (imaginary part, AU) **\n",
      "state          X           Y           Z\n",
      "  1         0.3746      0.1519      0.0168\n",
      "  2        -0.0022     -0.0038      0.0842\n",
      "  3        -0.0064     -0.0106      0.2354\n"
     ]
    },
    {
     "data": {
      "text/plain": [
       "<pyscf.tdscf.rks.TDA at 0x7f753b5c2350>"
      ]
     },
     "execution_count": 278,
     "metadata": {},
     "output_type": "execute_result"
    }
   ],
   "source": [
    "mytda = tddft.TDA(mfd)\n",
    "start=time.time()\n",
    "mytda.kernel()\n",
    "mytda_time = time.time() - start\n",
    "mytda.analyze(verbose=4)"
   ]
  },
  {
   "cell_type": "code",
   "execution_count": 279,
   "id": "7898f965-8599-4cdb-a08b-ddbcf5c10b2e",
   "metadata": {},
   "outputs": [
    {
     "data": {
      "text/plain": [
       "25.876469135284424"
      ]
     },
     "execution_count": 279,
     "metadata": {},
     "output_type": "execute_result"
    }
   ],
   "source": [
    "mytda_time"
   ]
  },
  {
   "cell_type": "markdown",
   "id": "ea12aeb7-0733-4f15-afee-2c949843b190",
   "metadata": {},
   "source": [
    "###  energie d'exitation de l'etat singlet et force d'oxillateur"
   ]
  },
  {
   "cell_type": "code",
   "execution_count": 280,
   "id": "3d00daf6-84b7-41e9-a772-1d3745c0f66c",
   "metadata": {},
   "outputs": [],
   "source": [
    "# Singlet excitation energies\n",
    "ee_singlets = mytda.e\n",
    "\n",
    "# Singlet oscillators strength\n",
    "OS_singlets = mytda.oscillator_strength(gauge='length')"
   ]
  },
  {
   "cell_type": "markdown",
   "id": "1ded69f8-825e-4012-ba56-53242ad54f7e",
   "metadata": {},
   "source": [
    "### Calculs des états excités triplets avec la TDDFT"
   ]
  },
  {
   "cell_type": "code",
   "execution_count": 281,
   "id": "a132e4bd-a4e3-4118-bc84-408848cabe53",
   "metadata": {},
   "outputs": [
    {
     "name": "stdout",
     "output_type": "stream",
     "text": [
      "Excited State energies (eV)\n",
      "[4.22789043 5.11502334 5.81387198]\n",
      "\n",
      "** Triplet excitation energies and oscillator strengths **\n",
      "Excited State   1:      4.22789 eV    293.25 nm  f=0.2650\n",
      "      18 -> 19        0.69763\n",
      "Excited State   2:      5.11502 eV    242.39 nm  f=0.0148\n",
      "      17 -> 19        0.69249\n",
      "      17 -> 20        0.13961\n",
      "Excited State   3:      5.81387 eV    213.26 nm  f=0.6393\n",
      "      16 -> 19       -0.22670\n",
      "      18 -> 20        0.66523\n",
      "\n",
      "** Transition electric dipole moments (AU) **\n",
      "state          X           Y           Z        Dip. S.      Osc.\n",
      "  1        -1.4683      0.6339     -0.0104      2.5579      0.2650\n",
      "  2        -0.0091     -0.0155      0.3433      0.1182      0.0148\n",
      "  3        -0.7631     -1.9732     -0.1092      4.4880      0.6393\n",
      "\n",
      "** Transition velocity dipole moments (imaginary part, AU) **\n",
      "state          X           Y           Z        Dip. S.      Osc.\n",
      "  1        -0.2061      0.0967     -0.0011      0.0518      0.2224\n",
      "  2        -0.0029     -0.0049      0.1088      0.0119      0.0421\n",
      "  3        -0.1488     -0.4062     -0.0223      0.1876      0.5854\n",
      "\n",
      "** Transition magnetic dipole moments (imaginary part, AU) **\n",
      "state          X           Y           Z\n",
      "  1        -0.0081     -0.0137      0.3042\n",
      "  2         0.8416      0.3108      0.0363\n",
      "  3         0.0017      0.0030     -0.0667\n"
     ]
    },
    {
     "data": {
      "text/plain": [
       "<pyscf.tdscf.rks.TDA at 0x7f753b5c2350>"
      ]
     },
     "execution_count": 281,
     "metadata": {},
     "output_type": "execute_result"
    }
   ],
   "source": [
    "mytda.singlet = False\n",
    "mytda.kernel()\n",
    "mytda.analyze(verbose=4)"
   ]
  },
  {
   "cell_type": "code",
   "execution_count": 282,
   "id": "d136d720-1f85-4143-864e-5ee4edf41ad4",
   "metadata": {},
   "outputs": [],
   "source": [
    "# Triplet excitation energies\n",
    "ee_triplets = mytda.e"
   ]
  },
  {
   "cell_type": "markdown",
   "id": "51d3caeb-8d51-473f-b230-e98e50dae963",
   "metadata": {},
   "source": [
    "### Calculs des propriété"
   ]
  },
  {
   "cell_type": "code",
   "execution_count": 287,
   "id": "a57190e8-7b8d-4201-b87d-e655365506fc",
   "metadata": {},
   "outputs": [],
   "source": [
    "import os\n",
    "import numpy as np\n",
    "from pyscf.data import nist\n",
    "\n",
    "au2ev = nist.HARTREE2EV\n",
    "\n",
    "# Index of HOMO and LUMO\n",
    "lumo_idx = mfd.mo_occ.tolist().index(0.)\n",
    "homo_idx = lumo_idx - 1\n",
    "\n",
    "# Calculate the gap Homo-LUMO\n",
    "E_HOMO = mfd.mo_energy[homo_idx]*au2ev\n",
    "E_LUMO = mfd.mo_energy[lumo_idx]*au2ev\n",
    "E_g = abs(E_HOMO - E_LUMO)\n",
    "\n",
    "# fluorescence energy\n",
    "f_energy = min(ee_singlets)\n",
    "\n",
    "# Singlet-Tiplet gap\n",
    "gap_ST = min(ee_singlets) - min(ee_triplets)\n",
    "\n",
    "# Oscillator strength\n",
    "OStr = OS_singlets[0]\n",
    "\n",
    "# Lifetime calculation in au\n",
    "c = nist.LIGHT_SPEED # in au\n",
    "time_au = 2.4188843265857E-17 # in au\n",
    "\n",
    "tau_au = c**3 / (2 * (f_energy)**2 * OStr) # in au\n",
    "tau = tau_au * time_au # in seconds\n",
    "\n",
    "# Multi-Objective function\n",
    "mobj = OStr - gap_ST * au2ev - np.abs(f_energy * au2ev - 3.2)"
   ]
  },
  {
   "cell_type": "code",
   "execution_count": 288,
   "id": "f36ada01-83c5-4b9c-ba83-58d4f0b2fe65",
   "metadata": {},
   "outputs": [
    {
     "data": {
      "text/html": [
       "<div>\n",
       "<style scoped>\n",
       "    .dataframe tbody tr th:only-of-type {\n",
       "        vertical-align: middle;\n",
       "    }\n",
       "\n",
       "    .dataframe tbody tr th {\n",
       "        vertical-align: top;\n",
       "    }\n",
       "\n",
       "    .dataframe thead th {\n",
       "        text-align: right;\n",
       "    }\n",
       "</style>\n",
       "<table border=\"1\" class=\"dataframe\">\n",
       "  <thead>\n",
       "    <tr style=\"text-align: right;\">\n",
       "      <th></th>\n",
       "      <th>eV/ns</th>\n",
       "    </tr>\n",
       "  </thead>\n",
       "  <tbody>\n",
       "    <tr>\n",
       "      <th>Homo energy</th>\n",
       "      <td>-6.148308</td>\n",
       "    </tr>\n",
       "    <tr>\n",
       "      <th>LUMO energy</th>\n",
       "      <td>-0.955251</td>\n",
       "    </tr>\n",
       "    <tr>\n",
       "      <th>Gap energy</th>\n",
       "      <td>5.193058</td>\n",
       "    </tr>\n",
       "    <tr>\n",
       "      <th>Fluorescence energy</th>\n",
       "      <td>5.656772</td>\n",
       "    </tr>\n",
       "    <tr>\n",
       "      <th>Singlet-Triplet gap</th>\n",
       "      <td>1.428882</td>\n",
       "    </tr>\n",
       "    <tr>\n",
       "      <th>Oscillator strength</th>\n",
       "      <td>0.002758</td>\n",
       "    </tr>\n",
       "    <tr>\n",
       "      <th>Lifetime</th>\n",
       "      <td>261.159299</td>\n",
       "    </tr>\n",
       "    <tr>\n",
       "      <th>Multi-Obj</th>\n",
       "      <td>-3.882896</td>\n",
       "    </tr>\n",
       "  </tbody>\n",
       "</table>\n",
       "</div>"
      ],
      "text/plain": [
       "                          eV/ns\n",
       "Homo energy           -6.148308\n",
       "LUMO energy           -0.955251\n",
       "Gap energy             5.193058\n",
       "Fluorescence energy    5.656772\n",
       "Singlet-Triplet gap    1.428882\n",
       "Oscillator strength    0.002758\n",
       "Lifetime             261.159299\n",
       "Multi-Obj             -3.882896"
      ]
     },
     "execution_count": 288,
     "metadata": {},
     "output_type": "execute_result"
    }
   ],
   "source": [
    "import pandas as pd\n",
    "\n",
    "# Create the results dataframe\n",
    "list_results_TDA = [E_HOMO, E_LUMO, E_g, f_energy* au2ev, gap_ST* au2ev, OStr, tau* 1E+9, mobj]\n",
    "dict_results_TDA = {'eV/ns': list_results_TDA}\n",
    "\n",
    "df_TDA = pd.DataFrame(dict_results_TDA,\n",
    "                    index = ['Homo energy', 'LUMO energy', 'Gap energy', \n",
    "                             'Fluorescence energy',\n",
    "                             'Singlet-Triplet gap',\n",
    "                             'Oscillator strength',\n",
    "                             'Lifetime',\n",
    "                             'Multi-Obj'])\n",
    "\n",
    "df_TDA"
   ]
  },
  {
   "cell_type": "markdown",
   "id": "fe77693a-915f-4c70-bfb2-a5c525d96f93",
   "metadata": {},
   "source": [
    "### Spectre UV/Vis"
   ]
  },
  {
   "cell_type": "code",
   "execution_count": 289,
   "id": "29296dcd-fc3d-4fe8-bb50-4af1ed671e9f",
   "metadata": {},
   "outputs": [],
   "source": [
    "def gaussian(x, mu, sig):\n",
    "    return np.exp(-np.power(x - mu, 2.) / (2 * np.power(sig, 2.)))"
   ]
  },
  {
   "cell_type": "code",
   "execution_count": 290,
   "id": "d18fc345-0d5e-4e42-9e04-e2ef7ae49946",
   "metadata": {},
   "outputs": [],
   "source": [
    "def run_spectral_analysis(mol, xc=\"lda\"):\n",
    "    n_states=15\n",
    "    spectral_width=0.1\n",
    "\n",
    "    # Ground State DFT\n",
    "    mf = dft.RKS(mol, xc=xc).run()\n",
    "\n",
    "    # Excited State DFT\n",
    "    mytd = tddft.TDDFT(mf)\n",
    "    mytd.nstates = n_states\n",
    "    mytd.max_space = 100\n",
    "    mytd.max_cycle = 200\n",
    "    mytd.kernel();\n",
    "    mytd.analyze()\n",
    "    osc_strengths = mytd.oscillator_strength()[:n_states-5]\n",
    "\n",
    "    # Convolve lineshapes to make spectra\n",
    "    energies_ev = mytd.e[:n_states-5]*au2ev\n",
    "    x_range = np.linspace(energies_ev.min()*0.9, energies_ev.max()*1.1, num=1000)\n",
    "    intensity = np.zeros(x_range.size)\n",
    "\n",
    "    for e, f in zip(energies_ev, osc_strengths):\n",
    "        intensity += gaussian(x_range, e, spectral_width) * f\n",
    "\n",
    "    # Rough Normalization\n",
    "    dx = (x_range[-1] - x_range[0])/x_range.size\n",
    "    area = (intensity*dx).sum()\n",
    "    intensity /= area\n",
    "\n",
    "\n",
    "    return x_range, intensity"
   ]
  },
  {
   "cell_type": "code",
   "execution_count": null,
   "id": "57d697ea-8808-4e70-9d4f-e908e19e3111",
   "metadata": {},
   "outputs": [],
   "source": [
    "import time\n",
    "\n",
    "data = {\"Excitation Energy (eV)\":[], \"Intensity\":[], \"Exchange-Correlation Functional\":[]}\n",
    "\n",
    "xcs = [\"TPSS\", \"PBE\", \"B3LYP\"]\n",
    "\n",
    "for xc in xcs:\n",
    "    ti = time.time()\n",
    "    x_range, intensity = run_spectral_analysis(mol, xc=xc)\n",
    "\n",
    "    data[\"Excitation Energy (eV)\"] += x_range.tolist()\n",
    "    data[\"Intensity\"] += intensity.tolist()\n",
    "    data[\"Exchange-Correlation Functional\"] += [xc]*x_range.size\n",
    "    tf = time.time()\n",
    "    print(f\"Time for {xc.upper()} calculations: {tf-ti:.2f}\\n\")\n",
    "\n",
    "df = pd.DataFrame(data)"
   ]
  },
  {
   "cell_type": "code",
   "execution_count": null,
   "id": "afc591df-7406-4390-9d66-5d786f29f7f9",
   "metadata": {},
   "outputs": [],
   "source": [
    "import plotly.express as px\n",
    "fig = px.line(df, x=\"Excitation Energy (eV)\", y=\"Intensity\", markers=True, color=\"Exchange-Correlation Functional\")\n",
    "fig.show()"
   ]
  },
  {
   "cell_type": "code",
   "execution_count": null,
   "id": "b97b7e19-7df8-4703-8c57-30321e3dec7c",
   "metadata": {},
   "outputs": [],
   "source": [
    "df"
   ]
  },
  {
   "cell_type": "code",
   "execution_count": null,
   "id": "621a9a74-bf56-4179-8789-9d0bb8655342",
   "metadata": {},
   "outputs": [],
   "source": []
  }
 ],
 "metadata": {
  "kernelspec": {
   "display_name": "Python 3 (ipykernel)",
   "language": "python",
   "name": "python3"
  },
  "language_info": {
   "codemirror_mode": {
    "name": "ipython",
    "version": 3
   },
   "file_extension": ".py",
   "mimetype": "text/x-python",
   "name": "python",
   "nbconvert_exporter": "python",
   "pygments_lexer": "ipython3",
   "version": "3.11.4"
  }
 },
 "nbformat": 4,
 "nbformat_minor": 5
}
